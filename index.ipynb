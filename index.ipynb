{
 "cells": [
  {
   "cell_type": "markdown",
   "metadata": {},
   "source": [
    "#Import the standard packages using the standard alias."
   ]
  },
  {
   "cell_type": "code",
   "execution_count": 2,
   "metadata": {},
   "outputs": [],
   "source": [
    "import pandas as pd\n",
    "import matplotlib.pyplot as plt\n",
    "\n",
    "%matplotlib inline"
   ]
  },
  {
   "cell_type": "markdown",
   "metadata": {},
   "source": [
    "#Reading our CSV file.\n"
   ]
  },
  {
   "cell_type": "code",
   "execution_count": 3,
   "metadata": {},
   "outputs": [
    {
     "data": {
      "text/html": [
       "<div>\n",
       "<style scoped>\n",
       "    .dataframe tbody tr th:only-of-type {\n",
       "        vertical-align: middle;\n",
       "    }\n",
       "\n",
       "    .dataframe tbody tr th {\n",
       "        vertical-align: top;\n",
       "    }\n",
       "\n",
       "    .dataframe thead th {\n",
       "        text-align: right;\n",
       "    }\n",
       "</style>\n",
       "<table border=\"1\" class=\"dataframe\">\n",
       "  <thead>\n",
       "    <tr style=\"text-align: right;\">\n",
       "      <th></th>\n",
       "      <th>Event.Id</th>\n",
       "      <th>Investigation.Type</th>\n",
       "      <th>Accident.Number</th>\n",
       "      <th>Event.Date</th>\n",
       "      <th>Location</th>\n",
       "      <th>Country</th>\n",
       "      <th>Latitude</th>\n",
       "      <th>Longitude</th>\n",
       "      <th>Airport.Code</th>\n",
       "      <th>Airport.Name</th>\n",
       "      <th>...</th>\n",
       "      <th>Purpose.of.flight</th>\n",
       "      <th>Air.carrier</th>\n",
       "      <th>Total.Fatal.Injuries</th>\n",
       "      <th>Total.Serious.Injuries</th>\n",
       "      <th>Total.Minor.Injuries</th>\n",
       "      <th>Total.Uninjured</th>\n",
       "      <th>Weather.Condition</th>\n",
       "      <th>Broad.phase.of.flight</th>\n",
       "      <th>Report.Status</th>\n",
       "      <th>Publication.Date</th>\n",
       "    </tr>\n",
       "  </thead>\n",
       "  <tbody>\n",
       "    <tr>\n",
       "      <th>0</th>\n",
       "      <td>20001218X45444</td>\n",
       "      <td>Accident</td>\n",
       "      <td>SEA87LA080</td>\n",
       "      <td>1948-10-24</td>\n",
       "      <td>MOOSE CREEK, ID</td>\n",
       "      <td>United States</td>\n",
       "      <td>NaN</td>\n",
       "      <td>NaN</td>\n",
       "      <td>NaN</td>\n",
       "      <td>NaN</td>\n",
       "      <td>...</td>\n",
       "      <td>Personal</td>\n",
       "      <td>NaN</td>\n",
       "      <td>2.0</td>\n",
       "      <td>0.0</td>\n",
       "      <td>0.0</td>\n",
       "      <td>0.0</td>\n",
       "      <td>UNK</td>\n",
       "      <td>Cruise</td>\n",
       "      <td>Probable Cause</td>\n",
       "      <td>NaN</td>\n",
       "    </tr>\n",
       "    <tr>\n",
       "      <th>1</th>\n",
       "      <td>20001218X45447</td>\n",
       "      <td>Accident</td>\n",
       "      <td>LAX94LA336</td>\n",
       "      <td>1962-07-19</td>\n",
       "      <td>BRIDGEPORT, CA</td>\n",
       "      <td>United States</td>\n",
       "      <td>NaN</td>\n",
       "      <td>NaN</td>\n",
       "      <td>NaN</td>\n",
       "      <td>NaN</td>\n",
       "      <td>...</td>\n",
       "      <td>Personal</td>\n",
       "      <td>NaN</td>\n",
       "      <td>4.0</td>\n",
       "      <td>0.0</td>\n",
       "      <td>0.0</td>\n",
       "      <td>0.0</td>\n",
       "      <td>UNK</td>\n",
       "      <td>Unknown</td>\n",
       "      <td>Probable Cause</td>\n",
       "      <td>19-09-1996</td>\n",
       "    </tr>\n",
       "    <tr>\n",
       "      <th>2</th>\n",
       "      <td>20061025X01555</td>\n",
       "      <td>Accident</td>\n",
       "      <td>NYC07LA005</td>\n",
       "      <td>1974-08-30</td>\n",
       "      <td>Saltville, VA</td>\n",
       "      <td>United States</td>\n",
       "      <td>36.922223</td>\n",
       "      <td>-81.878056</td>\n",
       "      <td>NaN</td>\n",
       "      <td>NaN</td>\n",
       "      <td>...</td>\n",
       "      <td>Personal</td>\n",
       "      <td>NaN</td>\n",
       "      <td>3.0</td>\n",
       "      <td>NaN</td>\n",
       "      <td>NaN</td>\n",
       "      <td>NaN</td>\n",
       "      <td>IMC</td>\n",
       "      <td>Cruise</td>\n",
       "      <td>Probable Cause</td>\n",
       "      <td>26-02-2007</td>\n",
       "    </tr>\n",
       "    <tr>\n",
       "      <th>3</th>\n",
       "      <td>20001218X45448</td>\n",
       "      <td>Accident</td>\n",
       "      <td>LAX96LA321</td>\n",
       "      <td>1977-06-19</td>\n",
       "      <td>EUREKA, CA</td>\n",
       "      <td>United States</td>\n",
       "      <td>NaN</td>\n",
       "      <td>NaN</td>\n",
       "      <td>NaN</td>\n",
       "      <td>NaN</td>\n",
       "      <td>...</td>\n",
       "      <td>Personal</td>\n",
       "      <td>NaN</td>\n",
       "      <td>2.0</td>\n",
       "      <td>0.0</td>\n",
       "      <td>0.0</td>\n",
       "      <td>0.0</td>\n",
       "      <td>IMC</td>\n",
       "      <td>Cruise</td>\n",
       "      <td>Probable Cause</td>\n",
       "      <td>12-09-2000</td>\n",
       "    </tr>\n",
       "    <tr>\n",
       "      <th>4</th>\n",
       "      <td>20041105X01764</td>\n",
       "      <td>Accident</td>\n",
       "      <td>CHI79FA064</td>\n",
       "      <td>1979-08-02</td>\n",
       "      <td>Canton, OH</td>\n",
       "      <td>United States</td>\n",
       "      <td>NaN</td>\n",
       "      <td>NaN</td>\n",
       "      <td>NaN</td>\n",
       "      <td>NaN</td>\n",
       "      <td>...</td>\n",
       "      <td>Personal</td>\n",
       "      <td>NaN</td>\n",
       "      <td>1.0</td>\n",
       "      <td>2.0</td>\n",
       "      <td>NaN</td>\n",
       "      <td>0.0</td>\n",
       "      <td>VMC</td>\n",
       "      <td>Approach</td>\n",
       "      <td>Probable Cause</td>\n",
       "      <td>16-04-1980</td>\n",
       "    </tr>\n",
       "    <tr>\n",
       "      <th>...</th>\n",
       "      <td>...</td>\n",
       "      <td>...</td>\n",
       "      <td>...</td>\n",
       "      <td>...</td>\n",
       "      <td>...</td>\n",
       "      <td>...</td>\n",
       "      <td>...</td>\n",
       "      <td>...</td>\n",
       "      <td>...</td>\n",
       "      <td>...</td>\n",
       "      <td>...</td>\n",
       "      <td>...</td>\n",
       "      <td>...</td>\n",
       "      <td>...</td>\n",
       "      <td>...</td>\n",
       "      <td>...</td>\n",
       "      <td>...</td>\n",
       "      <td>...</td>\n",
       "      <td>...</td>\n",
       "      <td>...</td>\n",
       "      <td>...</td>\n",
       "    </tr>\n",
       "    <tr>\n",
       "      <th>88884</th>\n",
       "      <td>20221227106491</td>\n",
       "      <td>Accident</td>\n",
       "      <td>ERA23LA093</td>\n",
       "      <td>2022-12-26</td>\n",
       "      <td>Annapolis, MD</td>\n",
       "      <td>United States</td>\n",
       "      <td>NaN</td>\n",
       "      <td>NaN</td>\n",
       "      <td>NaN</td>\n",
       "      <td>NaN</td>\n",
       "      <td>...</td>\n",
       "      <td>Personal</td>\n",
       "      <td>NaN</td>\n",
       "      <td>0.0</td>\n",
       "      <td>1.0</td>\n",
       "      <td>0.0</td>\n",
       "      <td>0.0</td>\n",
       "      <td>NaN</td>\n",
       "      <td>NaN</td>\n",
       "      <td>NaN</td>\n",
       "      <td>29-12-2022</td>\n",
       "    </tr>\n",
       "    <tr>\n",
       "      <th>88885</th>\n",
       "      <td>20221227106494</td>\n",
       "      <td>Accident</td>\n",
       "      <td>ERA23LA095</td>\n",
       "      <td>2022-12-26</td>\n",
       "      <td>Hampton, NH</td>\n",
       "      <td>United States</td>\n",
       "      <td>NaN</td>\n",
       "      <td>NaN</td>\n",
       "      <td>NaN</td>\n",
       "      <td>NaN</td>\n",
       "      <td>...</td>\n",
       "      <td>NaN</td>\n",
       "      <td>NaN</td>\n",
       "      <td>0.0</td>\n",
       "      <td>0.0</td>\n",
       "      <td>0.0</td>\n",
       "      <td>0.0</td>\n",
       "      <td>NaN</td>\n",
       "      <td>NaN</td>\n",
       "      <td>NaN</td>\n",
       "      <td>NaN</td>\n",
       "    </tr>\n",
       "    <tr>\n",
       "      <th>88886</th>\n",
       "      <td>20221227106497</td>\n",
       "      <td>Accident</td>\n",
       "      <td>WPR23LA075</td>\n",
       "      <td>2022-12-26</td>\n",
       "      <td>Payson, AZ</td>\n",
       "      <td>United States</td>\n",
       "      <td>341525N</td>\n",
       "      <td>1112021W</td>\n",
       "      <td>PAN</td>\n",
       "      <td>PAYSON</td>\n",
       "      <td>...</td>\n",
       "      <td>Personal</td>\n",
       "      <td>NaN</td>\n",
       "      <td>0.0</td>\n",
       "      <td>0.0</td>\n",
       "      <td>0.0</td>\n",
       "      <td>1.0</td>\n",
       "      <td>VMC</td>\n",
       "      <td>NaN</td>\n",
       "      <td>NaN</td>\n",
       "      <td>27-12-2022</td>\n",
       "    </tr>\n",
       "    <tr>\n",
       "      <th>88887</th>\n",
       "      <td>20221227106498</td>\n",
       "      <td>Accident</td>\n",
       "      <td>WPR23LA076</td>\n",
       "      <td>2022-12-26</td>\n",
       "      <td>Morgan, UT</td>\n",
       "      <td>United States</td>\n",
       "      <td>NaN</td>\n",
       "      <td>NaN</td>\n",
       "      <td>NaN</td>\n",
       "      <td>NaN</td>\n",
       "      <td>...</td>\n",
       "      <td>Personal</td>\n",
       "      <td>MC CESSNA 210N LLC</td>\n",
       "      <td>0.0</td>\n",
       "      <td>0.0</td>\n",
       "      <td>0.0</td>\n",
       "      <td>0.0</td>\n",
       "      <td>NaN</td>\n",
       "      <td>NaN</td>\n",
       "      <td>NaN</td>\n",
       "      <td>NaN</td>\n",
       "    </tr>\n",
       "    <tr>\n",
       "      <th>88888</th>\n",
       "      <td>20221230106513</td>\n",
       "      <td>Accident</td>\n",
       "      <td>ERA23LA097</td>\n",
       "      <td>2022-12-29</td>\n",
       "      <td>Athens, GA</td>\n",
       "      <td>United States</td>\n",
       "      <td>NaN</td>\n",
       "      <td>NaN</td>\n",
       "      <td>NaN</td>\n",
       "      <td>NaN</td>\n",
       "      <td>...</td>\n",
       "      <td>Personal</td>\n",
       "      <td>NaN</td>\n",
       "      <td>0.0</td>\n",
       "      <td>1.0</td>\n",
       "      <td>0.0</td>\n",
       "      <td>1.0</td>\n",
       "      <td>NaN</td>\n",
       "      <td>NaN</td>\n",
       "      <td>NaN</td>\n",
       "      <td>30-12-2022</td>\n",
       "    </tr>\n",
       "  </tbody>\n",
       "</table>\n",
       "<p>88889 rows × 31 columns</p>\n",
       "</div>"
      ],
      "text/plain": [
       "             Event.Id Investigation.Type Accident.Number  Event.Date  \\\n",
       "0      20001218X45444           Accident      SEA87LA080  1948-10-24   \n",
       "1      20001218X45447           Accident      LAX94LA336  1962-07-19   \n",
       "2      20061025X01555           Accident      NYC07LA005  1974-08-30   \n",
       "3      20001218X45448           Accident      LAX96LA321  1977-06-19   \n",
       "4      20041105X01764           Accident      CHI79FA064  1979-08-02   \n",
       "...               ...                ...             ...         ...   \n",
       "88884  20221227106491           Accident      ERA23LA093  2022-12-26   \n",
       "88885  20221227106494           Accident      ERA23LA095  2022-12-26   \n",
       "88886  20221227106497           Accident      WPR23LA075  2022-12-26   \n",
       "88887  20221227106498           Accident      WPR23LA076  2022-12-26   \n",
       "88888  20221230106513           Accident      ERA23LA097  2022-12-29   \n",
       "\n",
       "              Location        Country   Latitude   Longitude Airport.Code  \\\n",
       "0      MOOSE CREEK, ID  United States        NaN         NaN          NaN   \n",
       "1       BRIDGEPORT, CA  United States        NaN         NaN          NaN   \n",
       "2        Saltville, VA  United States  36.922223  -81.878056          NaN   \n",
       "3           EUREKA, CA  United States        NaN         NaN          NaN   \n",
       "4           Canton, OH  United States        NaN         NaN          NaN   \n",
       "...                ...            ...        ...         ...          ...   \n",
       "88884    Annapolis, MD  United States        NaN         NaN          NaN   \n",
       "88885      Hampton, NH  United States        NaN         NaN          NaN   \n",
       "88886       Payson, AZ  United States    341525N    1112021W          PAN   \n",
       "88887       Morgan, UT  United States        NaN         NaN          NaN   \n",
       "88888       Athens, GA  United States        NaN         NaN          NaN   \n",
       "\n",
       "      Airport.Name  ... Purpose.of.flight         Air.carrier  \\\n",
       "0              NaN  ...          Personal                 NaN   \n",
       "1              NaN  ...          Personal                 NaN   \n",
       "2              NaN  ...          Personal                 NaN   \n",
       "3              NaN  ...          Personal                 NaN   \n",
       "4              NaN  ...          Personal                 NaN   \n",
       "...            ...  ...               ...                 ...   \n",
       "88884          NaN  ...          Personal                 NaN   \n",
       "88885          NaN  ...               NaN                 NaN   \n",
       "88886       PAYSON  ...          Personal                 NaN   \n",
       "88887          NaN  ...          Personal  MC CESSNA 210N LLC   \n",
       "88888          NaN  ...          Personal                 NaN   \n",
       "\n",
       "      Total.Fatal.Injuries Total.Serious.Injuries Total.Minor.Injuries  \\\n",
       "0                      2.0                    0.0                  0.0   \n",
       "1                      4.0                    0.0                  0.0   \n",
       "2                      3.0                    NaN                  NaN   \n",
       "3                      2.0                    0.0                  0.0   \n",
       "4                      1.0                    2.0                  NaN   \n",
       "...                    ...                    ...                  ...   \n",
       "88884                  0.0                    1.0                  0.0   \n",
       "88885                  0.0                    0.0                  0.0   \n",
       "88886                  0.0                    0.0                  0.0   \n",
       "88887                  0.0                    0.0                  0.0   \n",
       "88888                  0.0                    1.0                  0.0   \n",
       "\n",
       "      Total.Uninjured Weather.Condition  Broad.phase.of.flight  \\\n",
       "0                 0.0               UNK                 Cruise   \n",
       "1                 0.0               UNK                Unknown   \n",
       "2                 NaN               IMC                 Cruise   \n",
       "3                 0.0               IMC                 Cruise   \n",
       "4                 0.0               VMC               Approach   \n",
       "...               ...               ...                    ...   \n",
       "88884             0.0               NaN                    NaN   \n",
       "88885             0.0               NaN                    NaN   \n",
       "88886             1.0               VMC                    NaN   \n",
       "88887             0.0               NaN                    NaN   \n",
       "88888             1.0               NaN                    NaN   \n",
       "\n",
       "        Report.Status Publication.Date  \n",
       "0      Probable Cause              NaN  \n",
       "1      Probable Cause       19-09-1996  \n",
       "2      Probable Cause       26-02-2007  \n",
       "3      Probable Cause       12-09-2000  \n",
       "4      Probable Cause       16-04-1980  \n",
       "...               ...              ...  \n",
       "88884             NaN       29-12-2022  \n",
       "88885             NaN              NaN  \n",
       "88886             NaN       27-12-2022  \n",
       "88887             NaN              NaN  \n",
       "88888             NaN       30-12-2022  \n",
       "\n",
       "[88889 rows x 31 columns]"
      ]
     },
     "execution_count": 3,
     "metadata": {},
     "output_type": "execute_result"
    }
   ],
   "source": [
    "avi_df = pd.read_csv('AviationData.csv', encoding= 'ISO-8859-1',low_memory=False)\n",
    "avi_df"
   ]
  },
  {
   "cell_type": "markdown",
   "metadata": {},
   "source": [
    "Next, we run df.info() on our data which helps us to identify the data types in each column of our data, it also shows the number of rows and columns and also we'll get to know which columns contain missing values.\n",
    "We can also run df.isna().sum() which helps identify the number of missing values in each column."
   ]
  },
  {
   "cell_type": "code",
   "execution_count": 4,
   "metadata": {},
   "outputs": [
    {
     "name": "stdout",
     "output_type": "stream",
     "text": [
      "<class 'pandas.core.frame.DataFrame'>\n",
      "RangeIndex: 88889 entries, 0 to 88888\n",
      "Data columns (total 31 columns):\n",
      " #   Column                  Non-Null Count  Dtype  \n",
      "---  ------                  --------------  -----  \n",
      " 0   Event.Id                88889 non-null  object \n",
      " 1   Investigation.Type      88889 non-null  object \n",
      " 2   Accident.Number         88889 non-null  object \n",
      " 3   Event.Date              88889 non-null  object \n",
      " 4   Location                88837 non-null  object \n",
      " 5   Country                 88663 non-null  object \n",
      " 6   Latitude                34382 non-null  object \n",
      " 7   Longitude               34373 non-null  object \n",
      " 8   Airport.Code            50249 non-null  object \n",
      " 9   Airport.Name            52790 non-null  object \n",
      " 10  Injury.Severity         87889 non-null  object \n",
      " 11  Aircraft.damage         85695 non-null  object \n",
      " 12  Aircraft.Category       32287 non-null  object \n",
      " 13  Registration.Number     87572 non-null  object \n",
      " 14  Make                    88826 non-null  object \n",
      " 15  Model                   88797 non-null  object \n",
      " 16  Amateur.Built           88787 non-null  object \n",
      " 17  Number.of.Engines       82805 non-null  float64\n",
      " 18  Engine.Type             81812 non-null  object \n",
      " 19  FAR.Description         32023 non-null  object \n",
      " 20  Schedule                12582 non-null  object \n",
      " 21  Purpose.of.flight       82697 non-null  object \n",
      " 22  Air.carrier             16648 non-null  object \n",
      " 23  Total.Fatal.Injuries    77488 non-null  float64\n",
      " 24  Total.Serious.Injuries  76379 non-null  float64\n",
      " 25  Total.Minor.Injuries    76956 non-null  float64\n",
      " 26  Total.Uninjured         82977 non-null  float64\n",
      " 27  Weather.Condition       84397 non-null  object \n",
      " 28  Broad.phase.of.flight   61724 non-null  object \n",
      " 29  Report.Status           82508 non-null  object \n",
      " 30  Publication.Date        75118 non-null  object \n",
      "dtypes: float64(5), object(26)\n",
      "memory usage: 21.0+ MB\n"
     ]
    }
   ],
   "source": [
    "avi_df.info()"
   ]
  },
  {
   "cell_type": "code",
   "execution_count": 5,
   "metadata": {},
   "outputs": [],
   "source": [
    "# From this output we are able to tell that our data contains 88889 rows and 31 columns.\n",
    "# The data contains a total of 88889  entries and from our columns we are able to tell that there are missing values but in columns index (0-3) there are no missing values since they all have a total of 88889 entries unlike the rest.\n",
    "#Our data contains 26 columns with categorical data indicated by Ddtype object and 5 coulumns with numerical or continuous data indicated by Ddtye float64."
   ]
  },
  {
   "cell_type": "code",
   "execution_count": 6,
   "metadata": {},
   "outputs": [
    {
     "data": {
      "text/plain": [
       "(88889, 31)"
      ]
     },
     "execution_count": 6,
     "metadata": {},
     "output_type": "execute_result"
    }
   ],
   "source": [
    "avi_df.shape"
   ]
  },
  {
   "cell_type": "code",
   "execution_count": 7,
   "metadata": {},
   "outputs": [
    {
     "data": {
      "text/plain": [
       "Event.Id                      0\n",
       "Investigation.Type            0\n",
       "Accident.Number               0\n",
       "Event.Date                    0\n",
       "Location                     52\n",
       "Country                     226\n",
       "Latitude                  54507\n",
       "Longitude                 54516\n",
       "Airport.Code              38640\n",
       "Airport.Name              36099\n",
       "Injury.Severity            1000\n",
       "Aircraft.damage            3194\n",
       "Aircraft.Category         56602\n",
       "Registration.Number        1317\n",
       "Make                         63\n",
       "Model                        92\n",
       "Amateur.Built               102\n",
       "Number.of.Engines          6084\n",
       "Engine.Type                7077\n",
       "FAR.Description           56866\n",
       "Schedule                  76307\n",
       "Purpose.of.flight          6192\n",
       "Air.carrier               72241\n",
       "Total.Fatal.Injuries      11401\n",
       "Total.Serious.Injuries    12510\n",
       "Total.Minor.Injuries      11933\n",
       "Total.Uninjured            5912\n",
       "Weather.Condition          4492\n",
       "Broad.phase.of.flight     27165\n",
       "Report.Status              6381\n",
       "Publication.Date          13771\n",
       "dtype: int64"
      ]
     },
     "execution_count": 7,
     "metadata": {},
     "output_type": "execute_result"
    }
   ],
   "source": [
    "avi_df.isna().sum()\n"
   ]
  },
  {
   "cell_type": "markdown",
   "metadata": {},
   "source": [
    "From the above information we are able to see the specific number of missing value in each column.\n",
    "Those with a large number of missing values can be dropped and those with less can easily be replaced."
   ]
  },
  {
   "cell_type": "code",
   "execution_count": 8,
   "metadata": {},
   "outputs": [
    {
     "data": {
      "text/plain": [
       "0        False\n",
       "1        False\n",
       "2        False\n",
       "3        False\n",
       "4        False\n",
       "         ...  \n",
       "88884    False\n",
       "88885    False\n",
       "88886    False\n",
       "88887    False\n",
       "88888    False\n",
       "Length: 88889, dtype: bool"
      ]
     },
     "execution_count": 8,
     "metadata": {},
     "output_type": "execute_result"
    }
   ],
   "source": [
    "avi_df.duplicated()"
   ]
  },
  {
   "cell_type": "markdown",
   "metadata": {},
   "source": [
    "The above function helps check whether our data has duplicated values which is indicated by the boolean value True. In our case the boolean value False shows that our data contains valid values."
   ]
  },
  {
   "cell_type": "code",
   "execution_count": 9,
   "metadata": {},
   "outputs": [],
   "source": [
    "#In this cell I was running .value_counts function in various columns to get the unique values and know what to replace the missing values with especially in categorical columns depending on which appeared most.\n",
    "#avi_df['Location'].value_counts()\n",
    "# avi_df['Country'].value_counts()\n",
    "# avi_df['Make'].value_counts()\n",
    "# avi_df['Model'].value_counts()\n",
    "#avi_df['Airport.Name'].value_counts()\n",
    "#avi_df['Registration.Number'].value_counts()\n",
    "\n",
    "\n",
    "\n",
    "\n"
   ]
  },
  {
   "cell_type": "markdown",
   "metadata": {},
   "source": [
    "#Dealing with missing data.\n",
    "\n",
    "For categorical columns with less missing values, we can fill in with the most common value that appears in that column using the function Mode.\n",
    "For less missing values in numerical columns we can use mean or median.\n",
    "For columns with a large number of missing values we use drop function.\n"
   ]
  },
  {
   "cell_type": "code",
   "execution_count": 10,
   "metadata": {},
   "outputs": [],
   "source": [
    "avi_df['Location'].fillna(avi_df['Location'].mode()[0],inplace=True)\n",
    "avi_df['Country'].fillna(avi_df['Country'].mode()[0],inplace=True)\n",
    "avi_df['Make'].fillna(avi_df['Make'].mode()[0],inplace=True)\n",
    "avi_df['Model'].fillna(avi_df['Model'].mode()[0],inplace=True)\n",
    "avi_df['Airport.Name'].fillna(avi_df['Airport.Name'].mode()[0],inplace=True)\n"
   ]
  },
  {
   "cell_type": "code",
   "execution_count": 11,
   "metadata": {},
   "outputs": [],
   "source": [
    "avi_df['Report.Status'].fillna('Unknown', inplace=True)\n",
    "avi_df['Amateur.Built'].fillna('Unknown', inplace=True)\n",
    "avi_df['Registration.Number'].fillna('Unknown',inplace=True)\n",
    "avi_df['Injury.Severity'].fillna('Unknown',inplace=True)\n",
    "avi_df['Aircraft.damage'].fillna('Unknown',inplace=True)\n",
    "avi_df['Engine.Type'].fillna('Unknown',inplace=True)\n",
    "avi_df['Purpose.of.flight'].fillna('Unknown',inplace=True)\n",
    "avi_df['Weather.Condition'].fillna('Unknown',inplace=True)\n",
    "avi_df['Total.Fatal.Injuries'].fillna(avi_df['Total.Fatal.Injuries'].median(), inplace=True)\n",
    "avi_df['Total.Serious.Injuries'].fillna(avi_df['Total.Serious.Injuries'].median(), inplace=True)\n",
    "avi_df['Total.Minor.Injuries'].fillna(avi_df['Total.Minor.Injuries'].median(), inplace=True)\n",
    "avi_df['Total.Uninjured'].fillna(avi_df['Total.Uninjured'].median(), inplace=True)\n",
    "avi_df['Number.of.Engines'].fillna(avi_df['Number.of.Engines'].median(), inplace=True)"
   ]
  },
  {
   "cell_type": "code",
   "execution_count": 12,
   "metadata": {},
   "outputs": [],
   "source": [
    "avi_df.drop(columns=['Air.carrier'], inplace = True)\n",
    "avi_df.drop(columns=['FAR.Description'], inplace = True)\n",
    "avi_df.drop(columns=['Aircraft.Category'], inplace = True)\n",
    "avi_df.drop(columns=['Longitude'], inplace = True)\n",
    "avi_df.drop(columns=['Latitude'], inplace = True)\n",
    "avi_df.drop(columns=['Schedule'], inplace=True)\n",
    "\n",
    "\n"
   ]
  },
  {
   "cell_type": "code",
   "execution_count": 13,
   "metadata": {},
   "outputs": [],
   "source": [
    "avi_df.dropna(inplace=True) #drops the missing values in the remaining rows in our data."
   ]
  },
  {
   "cell_type": "code",
   "execution_count": 14,
   "metadata": {},
   "outputs": [
    {
     "data": {
      "text/plain": [
       "Event.Id                  0\n",
       "Investigation.Type        0\n",
       "Accident.Number           0\n",
       "Event.Date                0\n",
       "Location                  0\n",
       "Country                   0\n",
       "Airport.Code              0\n",
       "Airport.Name              0\n",
       "Injury.Severity           0\n",
       "Aircraft.damage           0\n",
       "Registration.Number       0\n",
       "Make                      0\n",
       "Model                     0\n",
       "Amateur.Built             0\n",
       "Number.of.Engines         0\n",
       "Engine.Type               0\n",
       "Purpose.of.flight         0\n",
       "Total.Fatal.Injuries      0\n",
       "Total.Serious.Injuries    0\n",
       "Total.Minor.Injuries      0\n",
       "Total.Uninjured           0\n",
       "Weather.Condition         0\n",
       "Broad.phase.of.flight     0\n",
       "Report.Status             0\n",
       "Publication.Date          0\n",
       "dtype: int64"
      ]
     },
     "execution_count": 14,
     "metadata": {},
     "output_type": "execute_result"
    }
   ],
   "source": [
    "avi_df.isna().sum()"
   ]
  },
  {
   "cell_type": "markdown",
   "metadata": {},
   "source": [
    "From the above information we can tell there are no missing values in our data compared to the same code that we had run initially.\n"
   ]
  },
  {
   "cell_type": "code",
   "execution_count": 15,
   "metadata": {},
   "outputs": [
    {
     "name": "stdout",
     "output_type": "stream",
     "text": [
      "We have 28272 remaining columns and 25 remaining rows in our data.\n"
     ]
    }
   ],
   "source": [
    "avi_df.shape \n",
    "print(f'We have {avi_df.shape[0]} remaining columns and {avi_df.shape[1]} remaining rows in our data.')"
   ]
  },
  {
   "cell_type": "code",
   "execution_count": 16,
   "metadata": {},
   "outputs": [
    {
     "data": {
      "text/plain": [
       "Index(['Event.Id', 'Investigation.Type', 'Accident.Number', 'Event.Date',\n",
       "       'Location', 'Country', 'Airport.Code', 'Airport.Name',\n",
       "       'Injury.Severity', 'Aircraft.damage', 'Registration.Number', 'Make',\n",
       "       'Model', 'Amateur.Built', 'Number.of.Engines', 'Engine.Type',\n",
       "       'Purpose.of.flight', 'Total.Fatal.Injuries', 'Total.Serious.Injuries',\n",
       "       'Total.Minor.Injuries', 'Total.Uninjured', 'Weather.Condition',\n",
       "       'Broad.phase.of.flight', 'Report.Status', 'Publication.Date'],\n",
       "      dtype='object')"
      ]
     },
     "execution_count": 16,
     "metadata": {},
     "output_type": "execute_result"
    }
   ],
   "source": [
    "avi_df.columns #shows the column names remaining after dropping columns."
   ]
  },
  {
   "cell_type": "markdown",
   "metadata": {},
   "source": [
    "#Summarizng dataset using .groupby( ) method"
   ]
  },
  {
   "cell_type": "code",
   "execution_count": 17,
   "metadata": {},
   "outputs": [
    {
     "data": {
      "text/plain": [
       "Country\n",
       "ATLANTIC OCEAN                4.0\n",
       "American Samoa                1.0\n",
       "Antigua And Barbuda           0.0\n",
       "Australia                     0.0\n",
       "BLOCK 651A                    1.0\n",
       "Bahamas                       2.0\n",
       "Brazil                        0.0\n",
       "CARIBBEAN SEA                 1.0\n",
       "Canada                        0.0\n",
       "Colombia                      0.0\n",
       "Cuba                          0.0\n",
       "El Salvador                   0.0\n",
       "GULF OF MEXICO                0.0\n",
       "HIGH ISLAND                   1.0\n",
       "Haiti                        13.0\n",
       "Honduras                      0.0\n",
       "Jamaica                       0.0\n",
       "Japan                         2.0\n",
       "MISSING                       2.0\n",
       "Mali                          0.0\n",
       "Marshall Islands              0.0\n",
       "Mauritius                     3.0\n",
       "Netherlands                   0.0\n",
       "Northern Mariana Islands      0.0\n",
       "Philippines                   0.0\n",
       "Puerto Rico                   3.0\n",
       "St Kitts And Nevis            0.0\n",
       "United States               265.0\n",
       "Name: Total.Fatal.Injuries, dtype: float64"
      ]
     },
     "execution_count": 17,
     "metadata": {},
     "output_type": "execute_result"
    }
   ],
   "source": [
    "#To find out the Country that recorded the highest number of fatal injuries.\n",
    "#Assign this to the variable name 'Fatal_injuries'\n",
    "Fatal_injuries= avi_df.groupby('Country')['Total.Fatal.Injuries'].max()\n",
    "Fatal_injuries\n",
    "\n",
    "#United States recordes the highest by 265 number of Total Fatal Injuries.\n"
   ]
  },
  {
   "cell_type": "code",
   "execution_count": 18,
   "metadata": {},
   "outputs": [
    {
     "data": {
      "text/plain": [
       "Model          Make              \n",
       "A300B4-605R    Airbus Industrie      266.0\n",
       "747-300        Boeing                229.0\n",
       "DC-9-82        Mcdonnell Douglas     158.0\n",
       "DC-10-10       Mcdonnell Douglas     111.0\n",
       "PA-28-140      Piper                 110.0\n",
       "                                     ...  \n",
       "MINI 500       Culver-revolution       0.0\n",
       "               Jones                   0.0\n",
       "               Raser                   0.0\n",
       "MINI IMP RC-2  Raymond C. Voegele      0.0\n",
       "0-1A           Cessna                  0.0\n",
       "Name: Total.Fatal.Injuries, Length: 6739, dtype: float64"
      ]
     },
     "execution_count": 18,
     "metadata": {},
     "output_type": "execute_result"
    }
   ],
   "source": [
    "avi_df.groupby(['Model','Make'])['Total.Fatal.Injuries'].sum().sort_values(ascending=False)\n",
    " #AirbusIndustrie model-A300B4-605R recorded the highest with a total of 266 fatal injuries caused."
   ]
  },
  {
   "cell_type": "code",
   "execution_count": 19,
   "metadata": {},
   "outputs": [
    {
     "data": {
      "text/plain": [
       "Model       Make     \n",
       "152         Cessna       1034\n",
       "172         Cessna        553\n",
       "172N        Cessna        522\n",
       "PA-28-140   Piper         389\n",
       "172M        Cessna        365\n",
       "                         ... \n",
       "MUSTANG II  Homebuilt       1\n",
       "            Hudson          1\n",
       "            Lund            1\n",
       "            Roe-wayne       1\n",
       "0-1A        Cessna          1\n",
       "Name: Total.Fatal.Injuries, Length: 6739, dtype: int64"
      ]
     },
     "execution_count": 19,
     "metadata": {},
     "output_type": "execute_result"
    }
   ],
   "source": [
    "avi_df.groupby(['Model','Make'])['Total.Fatal.Injuries'].count().sort_values(ascending=False)\n",
    " # Cessna model-152 had the highest number of accidents with fatal injuries."
   ]
  },
  {
   "cell_type": "code",
   "execution_count": 20,
   "metadata": {},
   "outputs": [
    {
     "name": "stdout",
     "output_type": "stream",
     "text": [
      "There were 28272 accidents in total.\n"
     ]
    }
   ],
   "source": [
    "Number_of_accidents = avi_df['Accident.Number'].count()\n",
    "print(f'There were {Number_of_accidents} accidents in total.')"
   ]
  },
  {
   "cell_type": "code",
   "execution_count": 21,
   "metadata": {},
   "outputs": [
    {
     "data": {
      "text/plain": [
       "Make              Model           \n",
       "Cessna            152                 1034\n",
       "                  172                  553\n",
       "                  172N                 522\n",
       "Piper             PA-28-140            389\n",
       "Cessna            172M                 365\n",
       "                                      ... \n",
       "Madsen/rans       RANS S12 AIRAILE       1\n",
       "Mahan             STARDUSTER II          1\n",
       "Mahan Hardaway    QUICKIE Q2             1\n",
       "Mahler            BD-4                   1\n",
       "1977 Colfer-chan  STEEN SKYBOLT          1\n",
       "Name: Accident.Number, Length: 6739, dtype: int64"
      ]
     },
     "execution_count": 21,
     "metadata": {},
     "output_type": "execute_result"
    }
   ],
   "source": [
    "avi_df.groupby(['Make','Model'])['Accident.Number'].count().sort_values(ascending=False)\n",
    " # Cessna model-152 recorded the highest number of accidents."
   ]
  },
  {
   "cell_type": "code",
   "execution_count": 22,
   "metadata": {},
   "outputs": [
    {
     "data": {
      "text/plain": [
       "Model         Make                          \n",
       "DC-9-82       Mcdonnell Douglas                 2837.0\n",
       "DC-10-10      Mcdonnell Douglas                 2488.0\n",
       "747-400       Boeing                            2129.0\n",
       "747           Boeing                            2071.0\n",
       "737-300       Boeing                            2050.0\n",
       "                                                 ...  \n",
       "BUCCANEER II  Advance Aviation                     0.0\n",
       "              Highcraft                            0.0\n",
       "              Keuthan                              0.0\n",
       "              South Mississippi Light Aircra       0.0\n",
       "BL-7AC        Aeronca                              0.0\n",
       "Name: Total.Uninjured, Length: 6739, dtype: float64"
      ]
     },
     "execution_count": 22,
     "metadata": {},
     "output_type": "execute_result"
    }
   ],
   "source": [
    "avi_df.groupby(['Model','Make'])['Total.Uninjured'].sum().sort_values(ascending=False)\n",
    " #The output gives the aircrafts that had the highest number of unijnured people from largest to smallest."
   ]
  },
  {
   "cell_type": "code",
   "execution_count": 23,
   "metadata": {},
   "outputs": [
    {
     "data": {
      "text/html": [
       "<div>\n",
       "<style scoped>\n",
       "    .dataframe tbody tr th:only-of-type {\n",
       "        vertical-align: middle;\n",
       "    }\n",
       "\n",
       "    .dataframe tbody tr th {\n",
       "        vertical-align: top;\n",
       "    }\n",
       "\n",
       "    .dataframe thead th {\n",
       "        text-align: right;\n",
       "    }\n",
       "</style>\n",
       "<table border=\"1\" class=\"dataframe\">\n",
       "  <thead>\n",
       "    <tr style=\"text-align: right;\">\n",
       "      <th></th>\n",
       "      <th></th>\n",
       "      <th>sum</th>\n",
       "      <th>count</th>\n",
       "    </tr>\n",
       "    <tr>\n",
       "      <th>Model</th>\n",
       "      <th>Make</th>\n",
       "      <th></th>\n",
       "      <th></th>\n",
       "    </tr>\n",
       "  </thead>\n",
       "  <tbody>\n",
       "    <tr>\n",
       "      <th>152</th>\n",
       "      <th>Cessna</th>\n",
       "      <td>195.0</td>\n",
       "      <td>1034</td>\n",
       "    </tr>\n",
       "    <tr>\n",
       "      <th>PA-28-140</th>\n",
       "      <th>Piper</th>\n",
       "      <td>178.0</td>\n",
       "      <td>389</td>\n",
       "    </tr>\n",
       "    <tr>\n",
       "      <th>172</th>\n",
       "      <th>Cessna</th>\n",
       "      <td>154.0</td>\n",
       "      <td>553</td>\n",
       "    </tr>\n",
       "    <tr>\n",
       "      <th>172N</th>\n",
       "      <th>Cessna</th>\n",
       "      <td>148.0</td>\n",
       "      <td>522</td>\n",
       "    </tr>\n",
       "    <tr>\n",
       "      <th>DC-10-10</th>\n",
       "      <th>Mcdonnell Douglas</th>\n",
       "      <td>144.0</td>\n",
       "      <td>14</td>\n",
       "    </tr>\n",
       "    <tr>\n",
       "      <th>...</th>\n",
       "      <th>...</th>\n",
       "      <td>...</td>\n",
       "      <td>...</td>\n",
       "    </tr>\n",
       "    <tr>\n",
       "      <th>Zodiac CH 601 HDS</th>\n",
       "      <th>Polstra</th>\n",
       "      <td>0.0</td>\n",
       "      <td>1</td>\n",
       "    </tr>\n",
       "    <tr>\n",
       "      <th>Zodiac CH-601-H</th>\n",
       "      <th>Desimone</th>\n",
       "      <td>0.0</td>\n",
       "      <td>1</td>\n",
       "    </tr>\n",
       "    <tr>\n",
       "      <th>Zodiac CH601HDS</th>\n",
       "      <th>Gilbertson</th>\n",
       "      <td>0.0</td>\n",
       "      <td>1</td>\n",
       "    </tr>\n",
       "    <tr>\n",
       "      <th>none</th>\n",
       "      <th>Ortmayer/parson</th>\n",
       "      <td>0.0</td>\n",
       "      <td>1</td>\n",
       "    </tr>\n",
       "    <tr>\n",
       "      <th>sportstar</th>\n",
       "      <th>Evektor</th>\n",
       "      <td>0.0</td>\n",
       "      <td>1</td>\n",
       "    </tr>\n",
       "  </tbody>\n",
       "</table>\n",
       "<p>6739 rows × 2 columns</p>\n",
       "</div>"
      ],
      "text/plain": [
       "                                       sum  count\n",
       "Model             Make                           \n",
       "152               Cessna             195.0   1034\n",
       "PA-28-140         Piper              178.0    389\n",
       "172               Cessna             154.0    553\n",
       "172N              Cessna             148.0    522\n",
       "DC-10-10          Mcdonnell Douglas  144.0     14\n",
       "...                                    ...    ...\n",
       "Zodiac CH 601 HDS Polstra              0.0      1\n",
       "Zodiac CH-601-H   Desimone             0.0      1\n",
       "Zodiac CH601HDS   Gilbertson           0.0      1\n",
       "none              Ortmayer/parson      0.0      1\n",
       "sportstar         Evektor              0.0      1\n",
       "\n",
       "[6739 rows x 2 columns]"
      ]
     },
     "execution_count": 23,
     "metadata": {},
     "output_type": "execute_result"
    }
   ],
   "source": [
    "avi_df.groupby(['Model','Make'])['Total.Minor.Injuries'].agg(['sum','count']).sort_values(by=['sum','count'],ascending=[False,False])\n",
    "#The aircraft Cess model-152 had the highest total number of minor injuries(195) and the highest number of incidents."
   ]
  },
  {
   "cell_type": "code",
   "execution_count": 24,
   "metadata": {},
   "outputs": [
    {
     "data": {
      "text/plain": [
       "Substantial    21926\n",
       "Destroyed       4830\n",
       "Minor            943\n",
       "Unknown          573\n",
       "Name: Aircraft.damage, dtype: int64"
      ]
     },
     "execution_count": 24,
     "metadata": {},
     "output_type": "execute_result"
    }
   ],
   "source": [
    "avi_df['Aircraft.damage'].value_counts()"
   ]
  },
  {
   "cell_type": "code",
   "execution_count": 25,
   "metadata": {},
   "outputs": [
    {
     "data": {
      "text/plain": [
       "Make              Model          Aircraft.damage\n",
       "Cessna            152            Substantial        933\n",
       "                  172            Substantial        503\n",
       "                  172N           Substantial        455\n",
       "Piper             PA-28-140      Substantial        313\n",
       "Cessna            172M           Substantial        309\n",
       "                                                   ... \n",
       "Lockheed          250 TRI-GEAR   Destroyed            1\n",
       "                  382G           Destroyed            1\n",
       "                  L-1011         Substantial          1\n",
       "                  L-1011-1       Unknown              1\n",
       "1977 Colfer-chan  STEEN SKYBOLT  Substantial          1\n",
       "Name: Aircraft.damage, Length: 8155, dtype: int64"
      ]
     },
     "execution_count": 25,
     "metadata": {},
     "output_type": "execute_result"
    }
   ],
   "source": [
    "avi_df.groupby(['Make', 'Model'])['Aircraft.damage'].value_counts().sort_values(ascending=False)\n",
    " #Cess model-152 had the highest number of substantial damages."
   ]
  },
  {
   "cell_type": "code",
   "execution_count": 31,
   "metadata": {},
   "outputs": [
    {
     "data": {
      "text/plain": [
       "Weather.Condition\n",
       "IMC         1789\n",
       "UNK           89\n",
       "Unknown       14\n",
       "VMC        26380\n",
       "Name: Aircraft.damage, dtype: int64"
      ]
     },
     "execution_count": 31,
     "metadata": {},
     "output_type": "execute_result"
    }
   ],
   "source": [
    "avi_df.groupby('Weather.Condition')['Aircraft.damage'].count()"
   ]
  },
  {
   "cell_type": "code",
   "execution_count": 46,
   "metadata": {},
   "outputs": [
    {
     "data": {
      "text/plain": [
       "Purpose.of.flight\n",
       "Personal                     4481.0\n",
       "Unknown                      2343.0\n",
       "Business                      574.0\n",
       "Instructional                 573.0\n",
       "Executive/corporate           198.0\n",
       "Positioning                   184.0\n",
       "Skydiving                     127.0\n",
       "Other Work Use                 73.0\n",
       "Public Aircraft                68.0\n",
       "Ferry                          49.0\n",
       "Aerial Application             33.0\n",
       "Flight Test                    27.0\n",
       "Aerial Observation             27.0\n",
       "Air Race/show                  26.0\n",
       "Banner Tow                      2.0\n",
       "Glider Tow                      2.0\n",
       "Public Aircraft - Federal       0.0\n",
       "External Load                   0.0\n",
       "Public Aircraft - Local         0.0\n",
       "Public Aircraft - State         0.0\n",
       "Air Drop                        0.0\n",
       "Name: Total.Fatal.Injuries, dtype: float64"
      ]
     },
     "execution_count": 46,
     "metadata": {},
     "output_type": "execute_result"
    }
   ],
   "source": [
    "avi_df.groupby('Purpose.of.flight')['Total.Fatal.Injuries'].sum().sort_values(ascending=False)"
   ]
  },
  {
   "cell_type": "code",
   "execution_count": null,
   "metadata": {},
   "outputs": [
    {
     "data": {
      "text/plain": [
       "Engine.Type\n",
       "Reciprocating    24617\n",
       "Turbo Fan          998\n",
       "Turbo Jet          343\n",
       "Turbo Prop        1243\n",
       "Turbo Shaft        507\n",
       "Unknown            564\n",
       "Name: Event.Id, dtype: int64"
      ]
     },
     "execution_count": 47,
     "metadata": {},
     "output_type": "execute_result"
    }
   ],
   "source": [
    "avi_df.groupby('Engine.Type')['Event.Id'].count()\n",
    "# Aircrats with Reciprocating engine type recorded the highest number of incidents."
   ]
  },
  {
   "cell_type": "markdown",
   "metadata": {},
   "source": [
    "#Data Visualization"
   ]
  },
  {
   "cell_type": "markdown",
   "metadata": {},
   "source": [
    "Top 5 countries with fatal injuries"
   ]
  },
  {
   "cell_type": "code",
   "execution_count": 27,
   "metadata": {},
   "outputs": [
    {
     "data": {
      "image/png": "[encoded data removed]",
      "text/plain": [
       "<Figure size 720x504 with 1 Axes>"
      ]
     },
     "metadata": {
      "needs_background": "light"
     },
     "output_type": "display_data"
    }
   ],
   "source": [
    "import matplotlib.pyplot as plt\n",
    "\n",
    "Fatal_injuries= avi_df.groupby('Country')['Total.Fatal.Injuries'].max().sort_values(ascending=False)\n",
    "Top_countries = Fatal_injuries.head(5)\n",
    "\n",
    "plt.figure(figsize=(10,7))\n",
    "plt.bar(Top_countries.index, Top_countries.values, color='blue')\n",
    "plt.xlabel('Countries')\n",
    "plt.ylabel('Max Fatal Injuries')\n",
    "plt.title('Top 5 countries with Fatal Injuries')\n",
    "plt.show()"
   ]
  },
  {
   "cell_type": "markdown",
   "metadata": {},
   "source": [
    "Top 10 Aircraft models with highest number of accidents."
   ]
  },
  {
   "cell_type": "code",
   "execution_count": 28,
   "metadata": {},
   "outputs": [
    {
     "data": {
      "image/png": "[encoded data removed]",
      "text/plain": [
       "<Figure size 720x504 with 1 Axes>"
      ]
     },
     "metadata": {
      "needs_background": "light"
     },
     "output_type": "display_data"
    }
   ],
   "source": [
    "import matplotlib.pyplot as plt\n",
    "import seaborn as sns\n",
    "import pandas as pd\n",
    "\n",
    "Accident_counts = avi_df.groupby(['Make','Model'])['Accident.Number'].count().reset_index()\n",
    "Accident_counts = Accident_counts.sort_values(by='Accident.Number',ascending=False)\n",
    "Top_accidents = Accident_counts.head(10)\n",
    "\n",
    "plt.figure(figsize=(10,7))\n",
    "sns.barplot(data=Top_accidents,x='Model',y='Accident.Number', hue='Make')\n",
    "plt.xlabel('Aircraft Models')\n",
    "plt.ylabel('Number_of_accidents')\n",
    "plt.title('Top 10 Aircraft Models with the highest number of accidents')\n",
    "plt.show()\n",
    "\n",
    "\n",
    "\n"
   ]
  },
  {
   "cell_type": "markdown",
   "metadata": {},
   "source": [
    "Number of Aircraft damages in various Weather Conditions."
   ]
  },
  {
   "cell_type": "code",
   "execution_count": 44,
   "metadata": {},
   "outputs": [
    {
     "data": {
      "image/png": "[encoded data removed]",
      "text/plain": [
       "<Figure size 720x432 with 1 Axes>"
      ]
     },
     "metadata": {
      "needs_background": "light"
     },
     "output_type": "display_data"
    }
   ],
   "source": [
    "import matplotlib.pyplot as plt\n",
    "\n",
    "damage_counts = avi_df.groupby('Weather.Condition')['Aircraft.damage'].count()\n",
    "\n",
    "plt.figure(figsize=(10,6))\n",
    "plt.barh(damage_counts.index, damage_counts.values, color='pink')\n",
    "plt.title('Aircraft damage count by weather condition')\n",
    "plt.xlabel('Weather condition')\n",
    "plt.ylabel('Count of Aircraft damages')\n",
    "plt.show()"
   ]
  },
  {
   "cell_type": "markdown",
   "metadata": {},
   "source": [
    "Fatal injuries by Purpose of Flight"
   ]
  },
  {
   "cell_type": "code",
   "execution_count": 51,
   "metadata": {},
   "outputs": [
    {
     "data": {
      "text/plain": [
       "<function matplotlib.pyplot.show(close=None, block=None)>"
      ]
     },
     "execution_count": 51,
     "metadata": {},
     "output_type": "execute_result"
    },
    {
     "data": {
      "image/png": "[encoded data removed]",
      "text/plain": [
       "<Figure size 864x720 with 1 Axes>"
      ]
     },
     "metadata": {
      "needs_background": "light"
     },
     "output_type": "display_data"
    }
   ],
   "source": [
    "import matplotlib.pyplot as plt\n",
    "\n",
    "Number_of_fatal_injuries_top10= avi_df.groupby('Purpose.of.flight')['Total.Fatal.Injuries'].sum().sort_values(ascending=False).head(10)\n",
    "\n",
    "plt.figure(figsize=(12,10))\n",
    "plt.bar(Number_of_fatal_injuries_top10.index, Number_of_fatal_injuries_top10.values, color='blue')\n",
    "plt.title('Top 10 flight purposes by Fatal injuries')\n",
    "plt.xlabel('Purpose of Flight')\n",
    "plt.ylabel('No. of fatal Injuries')\n",
    "plt.show"
   ]
  },
  {
   "cell_type": "markdown",
   "metadata": {},
   "source": [
    "Saving the cleaned CSV data file to use in Tableau for visualization."
   ]
  },
  {
   "cell_type": "code",
   "execution_count": 54,
   "metadata": {},
   "outputs": [],
   "source": [
    "avi_df.to_csv('Cleaned_AviationData.csv', index=False) #index=false ensures that no index column is added."
   ]
  },
  {
   "cell_type": "markdown",
   "metadata": {},
   "source": [
    "The final cleaned dataset is now available for visualization in Tableau."
   ]
  },
  {
   "cell_type": "markdown",
   "metadata": {},
   "source": []
  }
 ],
 "metadata": {
  "kernelspec": {
   "display_name": "learn-env",
   "language": "python",
   "name": "python3"
  },
  "language_info": {
   "codemirror_mode": {
    "name": "ipython",
    "version": 3
   },
   "file_extension": ".py",
   "mimetype": "text/x-python",
   "name": "python",
   "nbconvert_exporter": "python",
   "pygments_lexer": "ipython3",
   "version": "3.8.5"
  }
 },
 "nbformat": 4,
 "nbformat_minor": 2
}
